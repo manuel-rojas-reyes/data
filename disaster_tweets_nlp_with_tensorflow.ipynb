{
  "nbformat": 4,
  "nbformat_minor": 0,
  "metadata": {
    "kernelspec": {
      "language": "python",
      "display_name": "Python 3",
      "name": "python3"
    },
    "language_info": {
      "pygments_lexer": "ipython3",
      "nbconvert_exporter": "python",
      "version": "3.6.4",
      "file_extension": ".py",
      "codemirror_mode": {
        "name": "ipython",
        "version": 3
      },
      "name": "python",
      "mimetype": "text/x-python"
    },
    "colab": {
      "name": "disaster-tweets-nlp-with-tensorflow.ipynb",
      "provenance": []
    }
  },
  "cells": [
    {
      "cell_type": "markdown",
      "metadata": {
        "id": "ig0L3-a84vLN"
      },
      "source": [
        "### Import Libraries & Data"
      ]
    },
    {
      "cell_type": "code",
      "metadata": {
        "execution": {
          "iopub.status.busy": "2021-06-04T21:44:02.672542Z",
          "iopub.execute_input": "2021-06-04T21:44:02.673Z",
          "iopub.status.idle": "2021-06-04T21:44:08.447632Z",
          "shell.execute_reply.started": "2021-06-04T21:44:02.672887Z",
          "shell.execute_reply": "2021-06-04T21:44:08.446548Z"
        },
        "trusted": true,
        "id": "09hVp4cd4vLV"
      },
      "source": [
        "import tensorflow as tf\n",
        "import numpy as np \n",
        "import pandas as pd\n",
        "from tensorflow.keras.preprocessing.text import Tokenizer\n",
        "from tensorflow.keras.preprocessing.sequence import pad_sequences"
      ],
      "execution_count": 1,
      "outputs": []
    },
    {
      "cell_type": "code",
      "metadata": {
        "colab": {
          "base_uri": "https://localhost:8080/"
        },
        "id": "PhcrL5pW5YrA",
        "outputId": "fcc7e185-af56-4222-8a86-66261583622e"
      },
      "source": [
        "from google.colab import drive\n",
        "drive.mount('/content/drive')"
      ],
      "execution_count": 2,
      "outputs": [
        {
          "output_type": "stream",
          "text": [
            "Mounted at /content/drive\n"
          ],
          "name": "stdout"
        }
      ]
    },
    {
      "cell_type": "code",
      "metadata": {
        "execution": {
          "iopub.status.busy": "2021-06-04T21:44:08.449457Z",
          "iopub.execute_input": "2021-06-04T21:44:08.449852Z",
          "iopub.status.idle": "2021-06-04T21:44:08.581161Z",
          "shell.execute_reply.started": "2021-06-04T21:44:08.449813Z",
          "shell.execute_reply": "2021-06-04T21:44:08.57963Z"
        },
        "trusted": true,
        "colab": {
          "base_uri": "https://localhost:8080/",
          "height": 204
        },
        "id": "E4GI9Uy34vLZ",
        "outputId": "ad48fd4f-d5df-45ed-96c2-d100e38456a9"
      },
      "source": [
        "training_data = pd.read_csv('/content/drive/MyDrive/Colab Notebooks/train.csv')\n",
        "testing_data = pd.read_csv('/content/drive/MyDrive/Colab Notebooks/test.csv')\n",
        "\n",
        "training_data.head()"
      ],
      "execution_count": 3,
      "outputs": [
        {
          "output_type": "execute_result",
          "data": {
            "text/html": [
              "<div>\n",
              "<style scoped>\n",
              "    .dataframe tbody tr th:only-of-type {\n",
              "        vertical-align: middle;\n",
              "    }\n",
              "\n",
              "    .dataframe tbody tr th {\n",
              "        vertical-align: top;\n",
              "    }\n",
              "\n",
              "    .dataframe thead th {\n",
              "        text-align: right;\n",
              "    }\n",
              "</style>\n",
              "<table border=\"1\" class=\"dataframe\">\n",
              "  <thead>\n",
              "    <tr style=\"text-align: right;\">\n",
              "      <th></th>\n",
              "      <th>id</th>\n",
              "      <th>keyword</th>\n",
              "      <th>location</th>\n",
              "      <th>text</th>\n",
              "      <th>target</th>\n",
              "    </tr>\n",
              "  </thead>\n",
              "  <tbody>\n",
              "    <tr>\n",
              "      <th>0</th>\n",
              "      <td>1</td>\n",
              "      <td>NaN</td>\n",
              "      <td>NaN</td>\n",
              "      <td>Our Deeds are the Reason of this #earthquake M...</td>\n",
              "      <td>1</td>\n",
              "    </tr>\n",
              "    <tr>\n",
              "      <th>1</th>\n",
              "      <td>4</td>\n",
              "      <td>NaN</td>\n",
              "      <td>NaN</td>\n",
              "      <td>Forest fire near La Ronge Sask. Canada</td>\n",
              "      <td>1</td>\n",
              "    </tr>\n",
              "    <tr>\n",
              "      <th>2</th>\n",
              "      <td>5</td>\n",
              "      <td>NaN</td>\n",
              "      <td>NaN</td>\n",
              "      <td>All residents asked to 'shelter in place' are ...</td>\n",
              "      <td>1</td>\n",
              "    </tr>\n",
              "    <tr>\n",
              "      <th>3</th>\n",
              "      <td>6</td>\n",
              "      <td>NaN</td>\n",
              "      <td>NaN</td>\n",
              "      <td>13,000 people receive #wildfires evacuation or...</td>\n",
              "      <td>1</td>\n",
              "    </tr>\n",
              "    <tr>\n",
              "      <th>4</th>\n",
              "      <td>7</td>\n",
              "      <td>NaN</td>\n",
              "      <td>NaN</td>\n",
              "      <td>Just got sent this photo from Ruby #Alaska as ...</td>\n",
              "      <td>1</td>\n",
              "    </tr>\n",
              "  </tbody>\n",
              "</table>\n",
              "</div>"
            ],
            "text/plain": [
              "   id keyword  ...                                               text target\n",
              "0   1     NaN  ...  Our Deeds are the Reason of this #earthquake M...      1\n",
              "1   4     NaN  ...             Forest fire near La Ronge Sask. Canada      1\n",
              "2   5     NaN  ...  All residents asked to 'shelter in place' are ...      1\n",
              "3   6     NaN  ...  13,000 people receive #wildfires evacuation or...      1\n",
              "4   7     NaN  ...  Just got sent this photo from Ruby #Alaska as ...      1\n",
              "\n",
              "[5 rows x 5 columns]"
            ]
          },
          "metadata": {
            "tags": []
          },
          "execution_count": 3
        }
      ]
    },
    {
      "cell_type": "code",
      "metadata": {
        "execution": {
          "iopub.status.busy": "2021-06-04T21:44:08.582907Z",
          "iopub.execute_input": "2021-06-04T21:44:08.583242Z",
          "iopub.status.idle": "2021-06-04T21:44:08.610682Z",
          "shell.execute_reply.started": "2021-06-04T21:44:08.583211Z",
          "shell.execute_reply": "2021-06-04T21:44:08.60953Z"
        },
        "trusted": true,
        "colab": {
          "base_uri": "https://localhost:8080/"
        },
        "id": "tTYo3f6a4vLa",
        "outputId": "573c8fec-47bd-433d-ec64-ec7cd293bb9d"
      },
      "source": [
        "training_data.info()"
      ],
      "execution_count": 4,
      "outputs": [
        {
          "output_type": "stream",
          "text": [
            "<class 'pandas.core.frame.DataFrame'>\n",
            "RangeIndex: 7613 entries, 0 to 7612\n",
            "Data columns (total 5 columns):\n",
            " #   Column    Non-Null Count  Dtype \n",
            "---  ------    --------------  ----- \n",
            " 0   id        7613 non-null   int64 \n",
            " 1   keyword   7552 non-null   object\n",
            " 2   location  5080 non-null   object\n",
            " 3   text      7613 non-null   object\n",
            " 4   target    7613 non-null   int64 \n",
            "dtypes: int64(2), object(3)\n",
            "memory usage: 297.5+ KB\n"
          ],
          "name": "stdout"
        }
      ]
    },
    {
      "cell_type": "markdown",
      "metadata": {
        "id": "9K_MhDZo4vLb"
      },
      "source": [
        "### Natural Language Processing in TensorFlow"
      ]
    },
    {
      "cell_type": "markdown",
      "metadata": {
        "id": "loYUwf-j4vLc"
      },
      "source": [
        "Global variables "
      ]
    },
    {
      "cell_type": "code",
      "metadata": {
        "execution": {
          "iopub.status.busy": "2021-06-04T21:44:16.3802Z",
          "iopub.execute_input": "2021-06-04T21:44:16.380547Z",
          "iopub.status.idle": "2021-06-04T21:44:16.384902Z",
          "shell.execute_reply.started": "2021-06-04T21:44:16.380516Z",
          "shell.execute_reply": "2021-06-04T21:44:16.384065Z"
        },
        "trusted": true,
        "id": "0aQp-1Yc4vLc"
      },
      "source": [
        "vocab_size = 20000\n",
        "embedding_dim = 16\n",
        "max_length = 30\n",
        "trunc_type = 'post'\n",
        "oov_tok = \"<OOV>\""
      ],
      "execution_count": 5,
      "outputs": []
    },
    {
      "cell_type": "markdown",
      "metadata": {
        "id": "u6eZQASw4vLd"
      },
      "source": [
        "Tokenizer generator & methods"
      ]
    },
    {
      "cell_type": "code",
      "metadata": {
        "execution": {
          "iopub.status.busy": "2021-06-04T21:44:21.00278Z",
          "iopub.execute_input": "2021-06-04T21:44:21.003308Z",
          "iopub.status.idle": "2021-06-04T21:44:21.219438Z",
          "shell.execute_reply.started": "2021-06-04T21:44:21.003275Z",
          "shell.execute_reply": "2021-06-04T21:44:21.218657Z"
        },
        "trusted": true,
        "id": "mSsfS99c4vLe"
      },
      "source": [
        "tokenizer = Tokenizer(num_words = vocab_size, oov_token=oov_tok)\n",
        "tokenizer.fit_on_texts(training_data.text)\n",
        "word_index = tokenizer.word_index"
      ],
      "execution_count": 6,
      "outputs": []
    },
    {
      "cell_type": "code",
      "metadata": {
        "colab": {
          "base_uri": "https://localhost:8080/"
        },
        "id": "qi71vFkn65m6",
        "outputId": "96119a46-1c5f-4c87-88b6-9a7512461e62"
      },
      "source": [
        "training_data.text\n"
      ],
      "execution_count": 7,
      "outputs": [
        {
          "output_type": "execute_result",
          "data": {
            "text/plain": [
              "0       Our Deeds are the Reason of this #earthquake M...\n",
              "1                  Forest fire near La Ronge Sask. Canada\n",
              "2       All residents asked to 'shelter in place' are ...\n",
              "3       13,000 people receive #wildfires evacuation or...\n",
              "4       Just got sent this photo from Ruby #Alaska as ...\n",
              "                              ...                        \n",
              "7608    Two giant cranes holding a bridge collapse int...\n",
              "7609    @aria_ahrary @TheTawniest The out of control w...\n",
              "7610    M1.94 [01:04 UTC]?5km S of Volcano Hawaii. htt...\n",
              "7611    Police investigating after an e-bike collided ...\n",
              "7612    The Latest: More Homes Razed by Northern Calif...\n",
              "Name: text, Length: 7613, dtype: object"
            ]
          },
          "metadata": {
            "tags": []
          },
          "execution_count": 7
        }
      ]
    },
    {
      "cell_type": "code",
      "metadata": {
        "execution": {
          "iopub.status.busy": "2021-06-04T21:44:31.63031Z",
          "iopub.execute_input": "2021-06-04T21:44:31.630797Z",
          "iopub.status.idle": "2021-06-04T21:44:31.850894Z",
          "shell.execute_reply.started": "2021-06-04T21:44:31.630764Z",
          "shell.execute_reply": "2021-06-04T21:44:31.849797Z"
        },
        "trusted": true,
        "id": "aTDYFlrP4vLf"
      },
      "source": [
        "training_sequences = tokenizer.texts_to_sequences(training_data.text)\n",
        "training_padded = pad_sequences(training_sequences, maxlen=max_length, truncating=trunc_type)"
      ],
      "execution_count": 8,
      "outputs": []
    },
    {
      "cell_type": "code",
      "metadata": {
        "execution": {
          "iopub.status.busy": "2021-06-04T21:44:33.512605Z",
          "iopub.execute_input": "2021-06-04T21:44:33.512966Z",
          "iopub.status.idle": "2021-06-04T21:44:33.520642Z",
          "shell.execute_reply.started": "2021-06-04T21:44:33.51292Z",
          "shell.execute_reply": "2021-06-04T21:44:33.519886Z"
        },
        "trusted": true,
        "colab": {
          "base_uri": "https://localhost:8080/"
        },
        "id": "3Bnfp2xY4vLf",
        "outputId": "b7acbb7f-75ab-414c-e566-5e49ae113890"
      },
      "source": [
        "training_padded[0:3]"
      ],
      "execution_count": 9,
      "outputs": [
        {
          "output_type": "execute_result",
          "data": {
            "text/plain": [
              "array([[   0,    0,    0,    0,    0,    0,    0,    0,    0,    0,    0,\n",
              "           0,    0,    0,    0,    0,    0,  120, 4634,   25,    5,  869,\n",
              "           9,   22,  264,  139, 1620, 4635,   90,   41],\n",
              "       [   0,    0,    0,    0,    0,    0,    0,    0,    0,    0,    0,\n",
              "           0,    0,    0,    0,    0,    0,    0,    0,    0,    0,    0,\n",
              "           0,  190,   46,  230,  800, 6955, 6956, 1405],\n",
              "       [   0,    0,    0,    0,    0,    0,    0,    0,   41, 1752, 1621,\n",
              "           8, 6957,    7, 6958,   25,  137, 6959,   21, 1753,   40,  442,\n",
              "         257,   58, 2159,    7,  715, 1406,   25, 1107]], dtype=int32)"
            ]
          },
          "metadata": {
            "tags": []
          },
          "execution_count": 9
        }
      ]
    },
    {
      "cell_type": "code",
      "metadata": {
        "execution": {
          "iopub.status.busy": "2021-06-04T21:44:35.18054Z",
          "iopub.execute_input": "2021-06-04T21:44:35.18103Z",
          "iopub.status.idle": "2021-06-04T21:44:35.186104Z",
          "shell.execute_reply.started": "2021-06-04T21:44:35.180997Z",
          "shell.execute_reply": "2021-06-04T21:44:35.185266Z"
        },
        "trusted": true,
        "colab": {
          "base_uri": "https://localhost:8080/"
        },
        "id": "9HERl_e74vLg",
        "outputId": "658df97a-a868-459e-c71c-3544c49edaf0"
      },
      "source": [
        "training_padded.shape"
      ],
      "execution_count": 10,
      "outputs": [
        {
          "output_type": "execute_result",
          "data": {
            "text/plain": [
              "(7613, 30)"
            ]
          },
          "metadata": {
            "tags": []
          },
          "execution_count": 10
        }
      ]
    },
    {
      "cell_type": "code",
      "metadata": {
        "execution": {
          "iopub.status.busy": "2021-06-04T21:44:46.488834Z",
          "iopub.execute_input": "2021-06-04T21:44:46.489239Z",
          "iopub.status.idle": "2021-06-04T21:44:46.589361Z",
          "shell.execute_reply.started": "2021-06-04T21:44:46.4892Z",
          "shell.execute_reply": "2021-06-04T21:44:46.588393Z"
        },
        "trusted": true,
        "id": "4MI2C-1A4vLg"
      },
      "source": [
        "testing_sequences = tokenizer.texts_to_sequences(testing_data.text)\n",
        "testing_padded = pad_sequences(testing_sequences, maxlen=max_length)"
      ],
      "execution_count": 11,
      "outputs": []
    },
    {
      "cell_type": "code",
      "metadata": {
        "execution": {
          "iopub.status.busy": "2021-06-04T21:44:47.603794Z",
          "iopub.execute_input": "2021-06-04T21:44:47.604188Z",
          "iopub.status.idle": "2021-06-04T21:44:47.610494Z",
          "shell.execute_reply.started": "2021-06-04T21:44:47.604145Z",
          "shell.execute_reply": "2021-06-04T21:44:47.609358Z"
        },
        "trusted": true,
        "colab": {
          "base_uri": "https://localhost:8080/"
        },
        "id": "OxFQS-Jp4vLh",
        "outputId": "123d202a-2d7b-4b91-e948-ba3451c57a31"
      },
      "source": [
        "testing_padded[0:3]"
      ],
      "execution_count": 12,
      "outputs": [
        {
          "output_type": "execute_result",
          "data": {
            "text/plain": [
              "array([[   0,    0,    0,    0,    0,    0,    0,    0,    0,    0,    0,\n",
              "           0,    0,    0,    0,    0,    0,    0,    0,    0,    0,    0,\n",
              "           0,    0,   35,  914,    6, 1952,  131,   93],\n",
              "       [   0,    0,    0,    0,    0,    0,    0,    0,    0,    0,    0,\n",
              "           0,    0,    0,    0,    0,    0,    0,    0,    0,    0,  475,\n",
              "          57,  264,   12, 1202, 2649,  606, 2322,  246],\n",
              "       [   0,    0,    0,    0,    0,    0,    0,    0,    0,    0,    0,\n",
              "          78,   12,    6,  190,   46,   20,  826, 3576,    1,   25, 5168,\n",
              "         872,    5,  770,   11, 1415,  506,   98,   41]], dtype=int32)"
            ]
          },
          "metadata": {
            "tags": []
          },
          "execution_count": 12
        }
      ]
    },
    {
      "cell_type": "code",
      "metadata": {
        "execution": {
          "iopub.status.busy": "2021-06-04T21:44:49.831732Z",
          "iopub.execute_input": "2021-06-04T21:44:49.832119Z",
          "iopub.status.idle": "2021-06-04T21:44:49.837613Z",
          "shell.execute_reply.started": "2021-06-04T21:44:49.832081Z",
          "shell.execute_reply": "2021-06-04T21:44:49.836558Z"
        },
        "trusted": true,
        "colab": {
          "base_uri": "https://localhost:8080/"
        },
        "id": "H3NwW_Oq4vLi",
        "outputId": "fd59f4f2-8da7-4d11-dd10-0056c729228e"
      },
      "source": [
        "testing_padded.shape"
      ],
      "execution_count": 13,
      "outputs": [
        {
          "output_type": "execute_result",
          "data": {
            "text/plain": [
              "(3263, 30)"
            ]
          },
          "metadata": {
            "tags": []
          },
          "execution_count": 13
        }
      ]
    },
    {
      "cell_type": "markdown",
      "metadata": {
        "id": "HBDn6UJ34vLi"
      },
      "source": [
        "### Neural Network"
      ]
    },
    {
      "cell_type": "code",
      "metadata": {
        "execution": {
          "iopub.status.busy": "2021-06-04T21:45:43.216636Z",
          "iopub.execute_input": "2021-06-04T21:45:43.217022Z",
          "iopub.status.idle": "2021-06-04T21:45:43.309337Z",
          "shell.execute_reply.started": "2021-06-04T21:45:43.216983Z",
          "shell.execute_reply": "2021-06-04T21:45:43.308375Z"
        },
        "trusted": true,
        "id": "s_q4gox64vLj"
      },
      "source": [
        "model = tf.keras.Sequential([\n",
        "    tf.keras.layers.Embedding(vocab_size, embedding_dim, input_length = max_length),\n",
        "    tf.keras.layers.Flatten(),\n",
        "    #tf.keras.layers.Dense(6, activation='relu'),\n",
        "    tf.keras.layers.Dense(1, activation='sigmoid')\n",
        "])"
      ],
      "execution_count": 14,
      "outputs": []
    },
    {
      "cell_type": "code",
      "metadata": {
        "execution": {
          "iopub.status.busy": "2021-06-04T21:45:46.54093Z",
          "iopub.execute_input": "2021-06-04T21:45:46.541478Z",
          "iopub.status.idle": "2021-06-04T21:45:46.560259Z",
          "shell.execute_reply.started": "2021-06-04T21:45:46.541427Z",
          "shell.execute_reply": "2021-06-04T21:45:46.559216Z"
        },
        "trusted": true,
        "id": "6vFyxgfJ4vLk"
      },
      "source": [
        "model.compile(loss='binary_crossentropy', optimizer='adam', metrics=['accuracy'])"
      ],
      "execution_count": 15,
      "outputs": []
    },
    {
      "cell_type": "code",
      "metadata": {
        "execution": {
          "iopub.status.busy": "2021-06-04T21:45:49.561702Z",
          "iopub.execute_input": "2021-06-04T21:45:49.562073Z",
          "iopub.status.idle": "2021-06-04T21:45:49.568547Z",
          "shell.execute_reply.started": "2021-06-04T21:45:49.562038Z",
          "shell.execute_reply": "2021-06-04T21:45:49.56755Z"
        },
        "trusted": true,
        "colab": {
          "base_uri": "https://localhost:8080/"
        },
        "id": "vyX3HT_L4vLk",
        "outputId": "eedd1f6b-d8cf-4c3f-aba5-0c05488e1b28"
      },
      "source": [
        "model.summary()"
      ],
      "execution_count": 16,
      "outputs": [
        {
          "output_type": "stream",
          "text": [
            "Model: \"sequential\"\n",
            "_________________________________________________________________\n",
            "Layer (type)                 Output Shape              Param #   \n",
            "=================================================================\n",
            "embedding (Embedding)        (None, 30, 16)            320000    \n",
            "_________________________________________________________________\n",
            "flatten (Flatten)            (None, 480)               0         \n",
            "_________________________________________________________________\n",
            "dense (Dense)                (None, 1)                 481       \n",
            "=================================================================\n",
            "Total params: 320,481\n",
            "Trainable params: 320,481\n",
            "Non-trainable params: 0\n",
            "_________________________________________________________________\n"
          ],
          "name": "stdout"
        }
      ]
    },
    {
      "cell_type": "code",
      "metadata": {
        "execution": {
          "iopub.status.busy": "2021-06-04T21:46:02.993308Z",
          "iopub.execute_input": "2021-06-04T21:46:02.993668Z",
          "iopub.status.idle": "2021-06-04T21:46:07.83467Z",
          "shell.execute_reply.started": "2021-06-04T21:46:02.993637Z",
          "shell.execute_reply": "2021-06-04T21:46:07.833511Z"
        },
        "trusted": true,
        "colab": {
          "base_uri": "https://localhost:8080/"
        },
        "id": "ymrGuxvx4vLl",
        "outputId": "7e3297fb-9678-4aac-9062-f9eae8462af8"
      },
      "source": [
        "model.fit(training_padded, training_data.target, epochs= 5)"
      ],
      "execution_count": 30,
      "outputs": [
        {
          "output_type": "stream",
          "text": [
            "Epoch 1/5\n",
            "238/238 [==============================] - 1s 4ms/step - loss: 0.0928 - accuracy: 0.9782\n",
            "Epoch 2/5\n",
            "238/238 [==============================] - 1s 4ms/step - loss: 0.0672 - accuracy: 0.9859\n",
            "Epoch 3/5\n",
            "238/238 [==============================] - 1s 5ms/step - loss: 0.0515 - accuracy: 0.9886\n",
            "Epoch 4/5\n",
            "238/238 [==============================] - 1s 4ms/step - loss: 0.0412 - accuracy: 0.9895\n",
            "Epoch 5/5\n",
            "238/238 [==============================] - 1s 4ms/step - loss: 0.0344 - accuracy: 0.9909\n"
          ],
          "name": "stdout"
        },
        {
          "output_type": "execute_result",
          "data": {
            "text/plain": [
              "<tensorflow.python.keras.callbacks.History at 0x7fdb9d959550>"
            ]
          },
          "metadata": {
            "tags": []
          },
          "execution_count": 30
        }
      ]
    },
    {
      "cell_type": "code",
      "metadata": {
        "execution": {
          "iopub.status.busy": "2021-06-04T21:48:17.108535Z",
          "iopub.execute_input": "2021-06-04T21:48:17.108943Z",
          "iopub.status.idle": "2021-06-04T21:48:17.265713Z",
          "shell.execute_reply.started": "2021-06-04T21:48:17.108905Z",
          "shell.execute_reply": "2021-06-04T21:48:17.264685Z"
        },
        "trusted": true,
        "id": "49CJmtpv4vLl"
      },
      "source": [
        "testing_target = model.predict(testing_padded)"
      ],
      "execution_count": 18,
      "outputs": []
    },
    {
      "cell_type": "code",
      "metadata": {
        "execution": {
          "iopub.status.busy": "2021-06-04T21:48:22.933108Z",
          "iopub.execute_input": "2021-06-04T21:48:22.933448Z",
          "iopub.status.idle": "2021-06-04T21:48:22.941016Z",
          "shell.execute_reply.started": "2021-06-04T21:48:22.933418Z",
          "shell.execute_reply": "2021-06-04T21:48:22.940038Z"
        },
        "trusted": true,
        "colab": {
          "base_uri": "https://localhost:8080/"
        },
        "id": "TTKSTsRf4vLm",
        "outputId": "e0a0b99f-6197-4ab1-95ca-60c4e94e143b"
      },
      "source": [
        "testing_target"
      ],
      "execution_count": 19,
      "outputs": [
        {
          "output_type": "execute_result",
          "data": {
            "text/plain": [
              "array([[0.45646805],\n",
              "       [0.6036356 ],\n",
              "       [0.7591853 ],\n",
              "       ...,\n",
              "       [0.7920799 ],\n",
              "       [0.9335045 ],\n",
              "       [0.4225679 ]], dtype=float32)"
            ]
          },
          "metadata": {
            "tags": []
          },
          "execution_count": 19
        }
      ]
    },
    {
      "cell_type": "code",
      "metadata": {
        "execution": {
          "iopub.status.busy": "2021-06-04T21:50:49.553718Z",
          "iopub.execute_input": "2021-06-04T21:50:49.554122Z",
          "iopub.status.idle": "2021-06-04T21:50:49.560274Z",
          "shell.execute_reply.started": "2021-06-04T21:50:49.554084Z",
          "shell.execute_reply": "2021-06-04T21:50:49.559043Z"
        },
        "trusted": true,
        "colab": {
          "base_uri": "https://localhost:8080/"
        },
        "id": "nPyyR-sD4vLn",
        "outputId": "c0e959d2-5fa6-4a0e-9132-7cad0c8f98c4"
      },
      "source": [
        "testing_target.shape"
      ],
      "execution_count": 20,
      "outputs": [
        {
          "output_type": "execute_result",
          "data": {
            "text/plain": [
              "(3263, 1)"
            ]
          },
          "metadata": {
            "tags": []
          },
          "execution_count": 20
        }
      ]
    },
    {
      "cell_type": "code",
      "metadata": {
        "execution": {
          "iopub.status.busy": "2021-06-04T21:51:09.50647Z",
          "iopub.execute_input": "2021-06-04T21:51:09.507003Z",
          "iopub.status.idle": "2021-06-04T21:51:09.51306Z",
          "shell.execute_reply.started": "2021-06-04T21:51:09.506944Z",
          "shell.execute_reply": "2021-06-04T21:51:09.512034Z"
        },
        "trusted": true,
        "colab": {
          "base_uri": "https://localhost:8080/"
        },
        "id": "JQWi9KZz4vLo",
        "outputId": "513f2122-4552-48b8-b75b-952c0cb3db1e"
      },
      "source": [
        "type(testing_target)"
      ],
      "execution_count": 21,
      "outputs": [
        {
          "output_type": "execute_result",
          "data": {
            "text/plain": [
              "numpy.ndarray"
            ]
          },
          "metadata": {
            "tags": []
          },
          "execution_count": 21
        }
      ]
    },
    {
      "cell_type": "code",
      "metadata": {
        "execution": {
          "iopub.status.busy": "2021-06-04T21:55:17.178307Z",
          "iopub.execute_input": "2021-06-04T21:55:17.178924Z",
          "iopub.status.idle": "2021-06-04T21:55:17.184809Z",
          "shell.execute_reply.started": "2021-06-04T21:55:17.178874Z",
          "shell.execute_reply": "2021-06-04T21:55:17.18376Z"
        },
        "trusted": true,
        "colab": {
          "base_uri": "https://localhost:8080/"
        },
        "id": "Ers9gNFF4vLp",
        "outputId": "73df4668-33e3-4fed-99ab-9aa5f7c3022f"
      },
      "source": [
        "print(testing_target[900][0])"
      ],
      "execution_count": 22,
      "outputs": [
        {
          "output_type": "stream",
          "text": [
            "0.22171783\n"
          ],
          "name": "stdout"
        }
      ]
    },
    {
      "cell_type": "code",
      "metadata": {
        "execution": {
          "iopub.status.busy": "2021-06-04T22:00:46.869784Z",
          "iopub.execute_input": "2021-06-04T22:00:46.870346Z",
          "iopub.status.idle": "2021-06-04T22:00:46.889212Z",
          "shell.execute_reply.started": "2021-06-04T22:00:46.870302Z",
          "shell.execute_reply": "2021-06-04T22:00:46.888172Z"
        },
        "trusted": true,
        "id": "pu34QQb74vLp"
      },
      "source": [
        "for i in range(3263):\n",
        "    if testing_target[i][0] > 0.5:\n",
        "        testing_target[i][0] = 1\n",
        "    else:\n",
        "        testing_target[i][0] = 0"
      ],
      "execution_count": 23,
      "outputs": []
    },
    {
      "cell_type": "code",
      "metadata": {
        "execution": {
          "iopub.status.busy": "2021-06-04T22:01:27.209692Z",
          "iopub.execute_input": "2021-06-04T22:01:27.210271Z",
          "iopub.status.idle": "2021-06-04T22:01:27.216794Z",
          "shell.execute_reply.started": "2021-06-04T22:01:27.210219Z",
          "shell.execute_reply": "2021-06-04T22:01:27.215998Z"
        },
        "trusted": true,
        "colab": {
          "base_uri": "https://localhost:8080/"
        },
        "id": "a6I8M-dk4vLq",
        "outputId": "ce14272f-e6df-42a9-e482-2924a7b04724"
      },
      "source": [
        "testing_target"
      ],
      "execution_count": 24,
      "outputs": [
        {
          "output_type": "execute_result",
          "data": {
            "text/plain": [
              "array([[0.],\n",
              "       [1.],\n",
              "       [1.],\n",
              "       ...,\n",
              "       [1.],\n",
              "       [1.],\n",
              "       [0.]], dtype=float32)"
            ]
          },
          "metadata": {
            "tags": []
          },
          "execution_count": 24
        }
      ]
    },
    {
      "cell_type": "code",
      "metadata": {
        "execution": {
          "iopub.status.busy": "2021-06-04T22:01:35.069457Z",
          "iopub.execute_input": "2021-06-04T22:01:35.069792Z",
          "iopub.status.idle": "2021-06-04T22:01:35.073899Z",
          "shell.execute_reply.started": "2021-06-04T22:01:35.069763Z",
          "shell.execute_reply": "2021-06-04T22:01:35.072783Z"
        },
        "trusted": true,
        "id": "Y0xIq9ZN4vLq"
      },
      "source": [
        "testing_target = testing_target.astype(int)"
      ],
      "execution_count": 25,
      "outputs": []
    },
    {
      "cell_type": "code",
      "metadata": {
        "execution": {
          "iopub.status.busy": "2021-06-04T22:01:40.665474Z",
          "iopub.execute_input": "2021-06-04T22:01:40.665822Z",
          "iopub.status.idle": "2021-06-04T22:01:40.670854Z",
          "shell.execute_reply.started": "2021-06-04T22:01:40.665791Z",
          "shell.execute_reply": "2021-06-04T22:01:40.67006Z"
        },
        "trusted": true,
        "colab": {
          "base_uri": "https://localhost:8080/"
        },
        "id": "uxmRer7C4vLr",
        "outputId": "c6828a47-cf99-4e01-a39d-c96dfebb6e66"
      },
      "source": [
        "testing_target"
      ],
      "execution_count": 26,
      "outputs": [
        {
          "output_type": "execute_result",
          "data": {
            "text/plain": [
              "array([[0],\n",
              "       [1],\n",
              "       [1],\n",
              "       ...,\n",
              "       [1],\n",
              "       [1],\n",
              "       [0]])"
            ]
          },
          "metadata": {
            "tags": []
          },
          "execution_count": 26
        }
      ]
    },
    {
      "cell_type": "code",
      "metadata": {
        "execution": {
          "iopub.status.busy": "2021-06-04T22:01:43.279692Z",
          "iopub.execute_input": "2021-06-04T22:01:43.280188Z",
          "iopub.status.idle": "2021-06-04T22:01:43.28693Z",
          "shell.execute_reply.started": "2021-06-04T22:01:43.28015Z",
          "shell.execute_reply": "2021-06-04T22:01:43.286146Z"
        },
        "trusted": true,
        "id": "aMxuMdLi4vLs"
      },
      "source": [
        "sub = pd.DataFrame()\n",
        "sub[\"id\"] = testing_data.id\n",
        "sub[\"target\"] = testing_target"
      ],
      "execution_count": 27,
      "outputs": []
    },
    {
      "cell_type": "code",
      "metadata": {
        "execution": {
          "iopub.status.busy": "2021-06-04T22:01:46.379487Z",
          "iopub.execute_input": "2021-06-04T22:01:46.379824Z",
          "iopub.status.idle": "2021-06-04T22:01:46.394734Z",
          "shell.execute_reply.started": "2021-06-04T22:01:46.379797Z",
          "shell.execute_reply": "2021-06-04T22:01:46.393855Z"
        },
        "trusted": true,
        "colab": {
          "base_uri": "https://localhost:8080/",
          "height": 419
        },
        "id": "siQDHzjQ4vLs",
        "outputId": "4d8afc07-79b8-47fe-eedb-e8668d6bd019"
      },
      "source": [
        "sub"
      ],
      "execution_count": 28,
      "outputs": [
        {
          "output_type": "execute_result",
          "data": {
            "text/html": [
              "<div>\n",
              "<style scoped>\n",
              "    .dataframe tbody tr th:only-of-type {\n",
              "        vertical-align: middle;\n",
              "    }\n",
              "\n",
              "    .dataframe tbody tr th {\n",
              "        vertical-align: top;\n",
              "    }\n",
              "\n",
              "    .dataframe thead th {\n",
              "        text-align: right;\n",
              "    }\n",
              "</style>\n",
              "<table border=\"1\" class=\"dataframe\">\n",
              "  <thead>\n",
              "    <tr style=\"text-align: right;\">\n",
              "      <th></th>\n",
              "      <th>id</th>\n",
              "      <th>target</th>\n",
              "    </tr>\n",
              "  </thead>\n",
              "  <tbody>\n",
              "    <tr>\n",
              "      <th>0</th>\n",
              "      <td>0</td>\n",
              "      <td>0</td>\n",
              "    </tr>\n",
              "    <tr>\n",
              "      <th>1</th>\n",
              "      <td>2</td>\n",
              "      <td>1</td>\n",
              "    </tr>\n",
              "    <tr>\n",
              "      <th>2</th>\n",
              "      <td>3</td>\n",
              "      <td>1</td>\n",
              "    </tr>\n",
              "    <tr>\n",
              "      <th>3</th>\n",
              "      <td>9</td>\n",
              "      <td>0</td>\n",
              "    </tr>\n",
              "    <tr>\n",
              "      <th>4</th>\n",
              "      <td>11</td>\n",
              "      <td>1</td>\n",
              "    </tr>\n",
              "    <tr>\n",
              "      <th>...</th>\n",
              "      <td>...</td>\n",
              "      <td>...</td>\n",
              "    </tr>\n",
              "    <tr>\n",
              "      <th>3258</th>\n",
              "      <td>10861</td>\n",
              "      <td>0</td>\n",
              "    </tr>\n",
              "    <tr>\n",
              "      <th>3259</th>\n",
              "      <td>10865</td>\n",
              "      <td>1</td>\n",
              "    </tr>\n",
              "    <tr>\n",
              "      <th>3260</th>\n",
              "      <td>10868</td>\n",
              "      <td>1</td>\n",
              "    </tr>\n",
              "    <tr>\n",
              "      <th>3261</th>\n",
              "      <td>10874</td>\n",
              "      <td>1</td>\n",
              "    </tr>\n",
              "    <tr>\n",
              "      <th>3262</th>\n",
              "      <td>10875</td>\n",
              "      <td>0</td>\n",
              "    </tr>\n",
              "  </tbody>\n",
              "</table>\n",
              "<p>3263 rows × 2 columns</p>\n",
              "</div>"
            ],
            "text/plain": [
              "         id  target\n",
              "0         0       0\n",
              "1         2       1\n",
              "2         3       1\n",
              "3         9       0\n",
              "4        11       1\n",
              "...     ...     ...\n",
              "3258  10861       0\n",
              "3259  10865       1\n",
              "3260  10868       1\n",
              "3261  10874       1\n",
              "3262  10875       0\n",
              "\n",
              "[3263 rows x 2 columns]"
            ]
          },
          "metadata": {
            "tags": []
          },
          "execution_count": 28
        }
      ]
    },
    {
      "cell_type": "code",
      "metadata": {
        "id": "gbmPfhPE4vLt"
      },
      "source": [
        "sub.to_csv(\"submission.csv\", index = False)"
      ],
      "execution_count": 29,
      "outputs": []
    }
  ]
}